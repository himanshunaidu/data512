{
  "cells": [
    {
      "cell_type": "markdown",
      "metadata": {
        "id": "Oe32iyCb-p91",
        "tags": []
      },
      "source": [
        "# Rare Disease Dataset: Monthly Article Traffic\n",
        "\n",
        "This notebook contains code to construct, analyze, and publish a dataset of monthly article traffic for a select set of pages from English Wikipedia from July 1, 2015 through September 30, 2024."
      ]
    },
    {
      "cell_type": "markdown",
      "metadata": {},
      "source": [
        "## Access Page View Data\n",
        "\n",
        "The following sub-section contains code to access page view data using the [Wikimedia REST API](https://www.mediawiki.org/wiki/Wikimedia_REST_API). The API documentation, [pageviews/per-article](https://wikimedia.org/api/rest_v1/#/Pageviews%20data), covers additional details that may be helpful when trying to use or understand this example.\n",
        "\n",
        "### License\n",
        "This code example was developed by Dr. David W. McDonald for use in DATA 512, a course in the UW MS Data Science degree program. This code is provided under the [Creative Commons](https://creativecommons.org) [CC-BY license](https://creativecommons.org/licenses/by/4.0/). Revision 1.3 - August 16, 2024"
      ]
    },
    {
      "cell_type": "code",
      "execution_count": 19,
      "metadata": {
        "id": "ZVDInLVb-p91",
        "tags": []
      },
      "outputs": [],
      "source": [
        "#\n",
        "# These are standard python modules\n",
        "import json, time, urllib.parse\n",
        "#\n",
        "# The 'requests' module is not a standard Python module. You will need to install this with pip/pip3 if you do not already have it\n",
        "import requests"
      ]
    },
    {
      "cell_type": "markdown",
      "metadata": {
        "id": "ayyGs7U5-p91"
      },
      "source": [
        "The example relies on some constants that help make the code a bit more readable."
      ]
    },
    {
      "cell_type": "code",
      "execution_count": 20,
      "metadata": {
        "id": "iN9EWJ6R-p91",
        "tags": []
      },
      "outputs": [],
      "source": [
        "#########\n",
        "#\n",
        "#    CONSTANTS\n",
        "#\n",
        "\n",
        "# The REST API 'pageviews' URL - this is the common URL/endpoint for all 'pageviews' API requests\n",
        "API_REQUEST_PAGEVIEWS_ENDPOINT = 'https://wikimedia.org/api/rest_v1/metrics/pageviews/'\n",
        "\n",
        "# This is a parameterized string that specifies what kind of pageviews request we are going to make\n",
        "# In this case it will be a 'per-article' based request. The string is a format string so that we can\n",
        "# replace each parameter with an appropriate value before making the request\n",
        "API_REQUEST_PER_ARTICLE_PARAMS = 'per-article/{project}/{access}/{agent}/{article}/{granularity}/{start}/{end}'\n",
        "\n",
        "# The Pageviews API asks that we not exceed 100 requests per second, we add a small delay to each request\n",
        "API_LATENCY_ASSUMED = 0.002       # Assuming roughly 2ms latency on the API and network\n",
        "API_THROTTLE_WAIT = (1.0/100.0)-API_LATENCY_ASSUMED\n",
        "\n",
        "# When making a request to the Wikimedia API they ask that you include your email address which will allow them\n",
        "# to contact you if something happens - such as - your code exceeding rate limits - or some other error\n",
        "REQUEST_HEADERS = {\n",
        "    'User-Agent': 'hnaidu36@uw.edu, University of Washington, MSDS DATA 512 - AUTUMN 2023',\n",
        "}\n",
        "\n",
        "# This is just a list of English Wikipedia article titles that we can use for example requests\n",
        "ARTICLE_TITLES = [ 'Bison', 'Northern flicker', 'Red squirrel', 'Chinook salmon', 'Horseshoe bat' ]\n",
        "\n",
        "# This template is used to map parameter values into the API_REQUST_PER_ARTICLE_PARAMS portion of an API request. The dictionary has a\n",
        "# field/key for each of the required parameters. In the example, below, we only vary the article name, so the majority of the fields\n",
        "# can stay constant for each request. Of course, these values *could* be changed if necessary.\n",
        "ARTICLE_PAGEVIEWS_PARAMS_TEMPLATE = {\n",
        "    \"project\":     \"en.wikipedia.org\",\n",
        "    \"access\":      \"desktop\",      # this should be changed for the different access types\n",
        "    \"agent\":       \"user\",\n",
        "    \"article\":     \"\",             # this value will be set/changed before each request\n",
        "    \"granularity\": \"monthly\",\n",
        "    \"start\":       \"2015010100\",   # start and end dates need to be set\n",
        "    \"end\":         \"2023040100\"    # this is likely the wrong end date\n",
        "}\n"
      ]
    },
    {
      "cell_type": "markdown",
      "metadata": {
        "id": "gT4C79X1-p91"
      },
      "source": [
        "The API request will be made using one procedure. The idea is to make this reusable. The procedure is parameterized, but relies on the constants above for the important parameters. The underlying assumption is that this will be used to request data for a set of article pages. Therefore the parameter most likely to change is the article_title."
      ]
    },
    {
      "cell_type": "code",
      "execution_count": 21,
      "metadata": {
        "id": "0dO45E04-p91",
        "tags": []
      },
      "outputs": [],
      "source": [
        "#########\n",
        "#\n",
        "#    PROCEDURES/FUNCTIONS\n",
        "#\n",
        "\n",
        "def request_pageviews_per_article(article_title = None,\n",
        "                                  endpoint_url = API_REQUEST_PAGEVIEWS_ENDPOINT,\n",
        "                                  endpoint_params = API_REQUEST_PER_ARTICLE_PARAMS,\n",
        "                                  request_template = ARTICLE_PAGEVIEWS_PARAMS_TEMPLATE,\n",
        "                                  headers = REQUEST_HEADERS):\n",
        "\n",
        "    # article title can be as a parameter to the call or in the request_template\n",
        "    if article_title:\n",
        "        request_template['article'] = article_title\n",
        "\n",
        "    if not request_template['article']:\n",
        "        raise Exception(\"Must supply an article title to make a pageviews request.\")\n",
        "\n",
        "    # Titles are supposed to have spaces replaced with \"_\" and be URL encoded\n",
        "    article_title_encoded = urllib.parse.quote(request_template['article'].replace(' ','_'), safe='')\n",
        "    request_template['article'] = article_title_encoded\n",
        "\n",
        "    # now, create a request URL by combining the endpoint_url with the parameters for the request\n",
        "    request_url = endpoint_url+endpoint_params.format(**request_template)\n",
        "\n",
        "    # make the request\n",
        "    try:\n",
        "        # we'll wait first, to make sure we don't exceed the limit in the situation where an exception\n",
        "        # occurs during the request processing - throttling is always a good practice with a free\n",
        "        # data source like Wikipedia - or other community sources\n",
        "        if API_THROTTLE_WAIT > 0.0:\n",
        "            time.sleep(API_THROTTLE_WAIT)\n",
        "        response = requests.get(request_url, headers=headers)\n",
        "        json_response = response.json()\n",
        "    except Exception as e:\n",
        "        print(e)\n",
        "        json_response = None\n",
        "    return json_response\n"
      ]
    },
    {
      "cell_type": "markdown",
      "metadata": {},
      "source": [
        "## Rare Disease Data Acquisition"
      ]
    },
    {
      "cell_type": "markdown",
      "metadata": {},
      "source": [
        "IMPORTS"
      ]
    },
    {
      "cell_type": "code",
      "execution_count": 22,
      "metadata": {
        "id": "UIVViXR_-p91"
      },
      "outputs": [],
      "source": [
        "import os\n",
        "import numpy as np\n",
        "import pandas as pd\n",
        "\n",
        "from tqdm import tqdm"
      ]
    },
    {
      "cell_type": "markdown",
      "metadata": {},
      "source": [
        "CONSTANTS"
      ]
    },
    {
      "cell_type": "code",
      "execution_count": 70,
      "metadata": {},
      "outputs": [],
      "source": [
        "DEV_ENVIRONMENT = True\n",
        "RARE_DISEASE_CSV_PATH = \"rare-disease_cleaned.AUG.2024.csv\"\n",
        "\n",
        "START = \"2015010100\"\n",
        "END = \"2024093000\""
      ]
    },
    {
      "cell_type": "code",
      "execution_count": 24,
      "metadata": {},
      "outputs": [],
      "source": [
        "START_DATE = START[0:-4]\n",
        "END_DATE = END[0:-4]\n",
        "\n",
        "desktop_views_file = f\"rare-disease_monthly_desktop_{START_DATE}-{END_DATE}.json\"\n",
        "mobile_views_file = f\"rare-disease_monthly_mobile_{START_DATE}-{END_DATE}.json\"\n",
        "cumulative_views_file = f\"rare-disease_monthly_cumulative_{START_DATE}-{END_DATE}.json\""
      ]
    },
    {
      "cell_type": "code",
      "execution_count": 25,
      "metadata": {},
      "outputs": [],
      "source": [
        "# Change the arguments of params templates\n",
        "ARTICLE_PAGEVIEWS_PARAMS_TEMPLATE['start'] = START\n",
        "ARTICLE_PAGEVIEWS_PARAMS_TEMPLATE['end'] = END\n",
        "\n",
        "# Create access-specific params templates\n",
        "ARTICLE_PAGEVIEWS_PARAMS_TEMPLATE_DESKTOP = ARTICLE_PAGEVIEWS_PARAMS_TEMPLATE.copy()\n",
        "ARTICLE_PAGEVIEWS_PARAMS_TEMPLATE_DESKTOP['access'] = \"desktop\"\n",
        "\n",
        "ARTICLE_PAGEVIEWS_PARAMS_TEMPLATE_MOBILE_WEB = ARTICLE_PAGEVIEWS_PARAMS_TEMPLATE.copy()\n",
        "ARTICLE_PAGEVIEWS_PARAMS_TEMPLATE_MOBILE_WEB['access'] = \"mobile-web\"\n",
        "\n",
        "ARTICLE_PAGEVIEWS_PARAMS_TEMPLATE_MOBILE_APP = ARTICLE_PAGEVIEWS_PARAMS_TEMPLATE.copy()\n",
        "ARTICLE_PAGEVIEWS_PARAMS_TEMPLATE_MOBILE_APP['access'] = \"mobile-app\""
      ]
    },
    {
      "cell_type": "markdown",
      "metadata": {},
      "source": [
        "FUNCTIONS"
      ]
    },
    {
      "cell_type": "code",
      "execution_count": 26,
      "metadata": {},
      "outputs": [],
      "source": [
        "def write_json_to_file(data, filename, mode = \"a+\"):\n",
        "    with open(filename, mode) as json_file:\n",
        "        json.dump(data, json_file, ensure_ascii=False)"
      ]
    },
    {
      "cell_type": "code",
      "execution_count": 27,
      "metadata": {},
      "outputs": [],
      "source": [
        "def get_page_views_df_for_article(article_title = None,\n",
        "                                  endpoint_url = API_REQUEST_PAGEVIEWS_ENDPOINT,\n",
        "                                  request_template = ARTICLE_PAGEVIEWS_PARAMS_TEMPLATE,\n",
        "                                  endpoint_params = API_REQUEST_PER_ARTICLE_PARAMS,\n",
        "                                  headers = REQUEST_HEADERS):\n",
        "    '''\n",
        "    Get page views for a given article title.\n",
        "    This drops the 'access' key from each of the response items.\n",
        "\n",
        "    Parameters:\n",
        "    ----------\n",
        "    article_title: str\n",
        "        The title of the article to get page views for\n",
        "    \n",
        "    endpoint_url: str\n",
        "        The URL of the endpoint to make the request to\n",
        "\n",
        "    request_template: dict\n",
        "        The template for the request parameters\n",
        "    \n",
        "    endpoint_params: str\n",
        "        The parameters for the request.\n",
        "        These will be used to format the request_template\n",
        "\n",
        "    headers: dict\n",
        "        The headers to be used in the request\n",
        "    \n",
        "    Returns:\n",
        "    -------\n",
        "    response: pd.DataFrame\n",
        "        The response from the API\n",
        "        \n",
        "    '''\n",
        "    views = request_pageviews_per_article(article_title, endpoint_url, endpoint_params, request_template, headers)\n",
        "    views = views['items']\n",
        "    views_df = pd.DataFrame(views)\n",
        "    views_df.drop(columns = ['access'], inplace = True)\n",
        "    return views_df"
      ]
    },
    {
      "cell_type": "markdown",
      "metadata": {},
      "source": [
        "### Load CSV"
      ]
    },
    {
      "cell_type": "code",
      "execution_count": 28,
      "metadata": {},
      "outputs": [],
      "source": [
        "rare_disease_df = pd.read_csv(os.path.join(os.getcwd(), RARE_DISEASE_CSV_PATH))\n",
        "\n",
        "views_desktop = {}\n",
        "views_mobile = {}\n",
        "views_cumulative = {}"
      ]
    },
    {
      "cell_type": "code",
      "execution_count": 29,
      "metadata": {},
      "outputs": [
        {
          "data": {
            "text/plain": [
              "disease    1773\n",
              "pageid     1773\n",
              "url        1773\n",
              "dtype: int64"
            ]
          },
          "execution_count": 29,
          "metadata": {},
          "output_type": "execute_result"
        }
      ],
      "source": [
        "rare_disease_df.count()"
      ]
    },
    {
      "cell_type": "code",
      "execution_count": 30,
      "metadata": {},
      "outputs": [
        {
          "data": {
            "text/html": [
              "<div>\n",
              "<style scoped>\n",
              "    .dataframe tbody tr th:only-of-type {\n",
              "        vertical-align: middle;\n",
              "    }\n",
              "\n",
              "    .dataframe tbody tr th {\n",
              "        vertical-align: top;\n",
              "    }\n",
              "\n",
              "    .dataframe thead th {\n",
              "        text-align: right;\n",
              "    }\n",
              "</style>\n",
              "<table border=\"1\" class=\"dataframe\">\n",
              "  <thead>\n",
              "    <tr style=\"text-align: right;\">\n",
              "      <th></th>\n",
              "      <th>disease</th>\n",
              "      <th>pageid</th>\n",
              "      <th>url</th>\n",
              "    </tr>\n",
              "  </thead>\n",
              "  <tbody>\n",
              "    <tr>\n",
              "      <th>0</th>\n",
              "      <td>Klinefelter syndrome</td>\n",
              "      <td>19833554</td>\n",
              "      <td>https://en.wikipedia.org/wiki/Klinefelter_synd...</td>\n",
              "    </tr>\n",
              "  </tbody>\n",
              "</table>\n",
              "</div>"
            ],
            "text/plain": [
              "                disease    pageid  \\\n",
              "0  Klinefelter syndrome  19833554   \n",
              "\n",
              "                                                 url  \n",
              "0  https://en.wikipedia.org/wiki/Klinefelter_synd...  "
            ]
          },
          "execution_count": 30,
          "metadata": {},
          "output_type": "execute_result"
        }
      ],
      "source": [
        "rare_disease_df.head(1)"
      ]
    },
    {
      "cell_type": "code",
      "execution_count": 31,
      "metadata": {},
      "outputs": [],
      "source": [
        "if DEV_ENVIRONMENT:\n",
        "    rare_disease_df = rare_disease_df.head(5)"
      ]
    },
    {
      "cell_type": "markdown",
      "metadata": {},
      "source": [
        "### Query API"
      ]
    },
    {
      "cell_type": "code",
      "execution_count": 32,
      "metadata": {},
      "outputs": [
        {
          "name": "stderr",
          "output_type": "stream",
          "text": [
            "100%|██████████| 5/5 [00:02<00:00,  2.29it/s]\n"
          ]
        }
      ],
      "source": [
        "MERGE_COLUMNS = [\"project\", \"article\", \"granularity\",\"timestamp\", \"agent\"]\n",
        "\n",
        "for index, row in tqdm(rare_disease_df.iterrows(), total=rare_disease_df.shape[0]):\n",
        "    article = row['disease']\n",
        "    \n",
        "    # Get desktop views\n",
        "    views_desktop_df = get_page_views_df_for_article(article, request_template=ARTICLE_PAGEVIEWS_PARAMS_TEMPLATE_DESKTOP)\n",
        "    views_desktop[article] = json.loads(views_desktop_df.to_json(orient = \"records\"))\n",
        "\n",
        "    # Get mobile views\n",
        "    views_mobile_web_df = get_page_views_df_for_article(article, request_template=ARTICLE_PAGEVIEWS_PARAMS_TEMPLATE_MOBILE_WEB)\n",
        "    views_mobile_app_df = get_page_views_df_for_article(article, request_template=ARTICLE_PAGEVIEWS_PARAMS_TEMPLATE_MOBILE_APP)\n",
        "\n",
        "    views_mobile_df = pd.merge(views_mobile_web_df, views_mobile_app_df, on=MERGE_COLUMNS, how = \"outer\", suffixes=('_df1', '_df2'))\n",
        "    views_mobile_df['views'] = views_mobile_df['views_df1'].fillna(0) + views_mobile_df['views_df2'].fillna(0)\n",
        "    views_mobile_df.drop(columns = ['views_df1', 'views_df2'], inplace = True)\n",
        "\n",
        "    views_mobile[article] = json.loads(views_mobile_df.to_json(orient = \"records\"))\n",
        "\n",
        "    # Get cumulative views\n",
        "    views_cumulative_df = pd.merge(views_desktop_df, views_mobile_df, on=MERGE_COLUMNS, how = \"outer\", suffixes=('_df1', '_df2'))\n",
        "    views_cumulative_df['views'] = views_cumulative_df['views_df1'].fillna(0) + views_cumulative_df['views_df2'].fillna(0)\n",
        "    views_cumulative_df.drop(columns = ['views_df1', 'views_df2'], inplace = True)\n",
        "\n",
        "    views_cumulative[article] = json.loads(views_cumulative_df.to_json(orient = \"records\"))\n",
        "\n",
        "    if index+1 % 100 == 0:\n",
        "        tqdm.write(f\"Processed {index} articles\")"
      ]
    },
    {
      "cell_type": "markdown",
      "metadata": {},
      "source": [
        "### Write Views to Files"
      ]
    },
    {
      "cell_type": "code",
      "execution_count": 33,
      "metadata": {},
      "outputs": [],
      "source": [
        "write_json_to_file(views_desktop, desktop_views_file, \"w\")\n",
        "write_json_to_file(views_mobile, mobile_views_file, \"w\")\n",
        "write_json_to_file(views_cumulative, cumulative_views_file, \"w\")"
      ]
    },
    {
      "cell_type": "markdown",
      "metadata": {},
      "source": [
        "## Analysis"
      ]
    },
    {
      "cell_type": "markdown",
      "metadata": {},
      "source": [
        "FUNCTIONS"
      ]
    },
    {
      "cell_type": "code",
      "execution_count": 60,
      "metadata": {},
      "outputs": [],
      "source": [
        "def get_aggregates_for_article(views_df, article_title):\n",
        "    '''\n",
        "    Get the maximum, minimum, average and other values from views for an article\n",
        "\n",
        "    Parameters:\n",
        "    ----------\n",
        "    views_df: pd.DataFrame\n",
        "        The dataframe containing the views data for an article\n",
        "    \n",
        "    article_title: str\n",
        "        The title of the article\n",
        "    \n",
        "    Returns:\n",
        "    -------\n",
        "    aggreate_views: dict\n",
        "        A dictionary containing the maximum, minimum and average views for an article\n",
        "    '''\n",
        "    max_views = views_df['views'].max()\n",
        "    max_month = views_df.loc[views_df['views'].idxmax()]['timestamp']\n",
        "    min_views = views_df['views'].min()\n",
        "    min_month = views_df.loc[views_df['views'].idxmin()]['timestamp']\n",
        "    avg_views = views_df['views'].mean()\n",
        "    count_views = views_df['views'].count()\n",
        "\n",
        "    if article_title is None and views_df.shape[0] > 0:\n",
        "        article_title = views_df['article'].iloc[0]\n",
        "\n",
        "    aggregate_views = {\n",
        "        'article': article_title,\n",
        "        'max_views': max_views,\n",
        "        'max_month': max_month,\n",
        "        'min_views': min_views,\n",
        "        'min_month': min_month,\n",
        "        'avg_views': avg_views,\n",
        "        'count_views': count_views\n",
        "    }\n",
        "\n",
        "    return aggregate_views"
      ]
    },
    {
      "cell_type": "code",
      "execution_count": 61,
      "metadata": {},
      "outputs": [],
      "source": [
        "def get_article_with_max_views_average(aggregated_df):\n",
        "    return aggregated_df.iloc[aggregated_df[\"avg_views\"].idxmax()]\n",
        "\n",
        "def get_article_with_min_views_average(aggregated_df):\n",
        "    return aggregated_df.iloc[aggregated_df[\"avg_views\"].idxmin()]\n",
        "\n",
        "def get_top_10_peak_articles(aggregated_df):\n",
        "    return aggregated_df.nlargest(10, 'max_views')\n",
        "\n",
        "def get_top_10_lowest_articles(aggregated_df):\n",
        "    return aggregated_df.nsmallest(10, 'min_views')\n",
        "\n",
        "def get_lowest_count_articles(aggregated_df):\n",
        "    return aggregated_df.nsmallest(10, 'count_views')"
      ]
    },
    {
      "cell_type": "code",
      "execution_count": 62,
      "metadata": {},
      "outputs": [],
      "source": [
        "def get_aggregate_df_from_json_file(filename):\n",
        "    '''\n",
        "    Get the aggregate dataframe from a json file.\n",
        "\n",
        "    The json file is expected to have article titles as keys and views data as values.\n",
        "\n",
        "    Parameters:\n",
        "    ----------\n",
        "    filename: str\n",
        "        The name of the json file to read from\n",
        "\n",
        "    Returns:\n",
        "    -------\n",
        "    pd.DataFrame\n",
        "        The aggregate dataframe from the json file\n",
        "    '''\n",
        "    aggregate_array = []\n",
        "\n",
        "    with open(filename, \"r\") as json_file:\n",
        "        views = json.load(json_file)\n",
        "        for article_title, views_df in views.items():\n",
        "            views_df = pd.DataFrame(views_df)\n",
        "            aggregate_views = get_aggregates_for_article(views_df, article_title)\n",
        "            aggregate_array.append(aggregate_views)\n",
        "    \n",
        "    return pd.DataFrame(aggregate_array)"
      ]
    },
    {
      "cell_type": "markdown",
      "metadata": {},
      "source": [
        "### Get Aggregate Dataframes Per Access Type"
      ]
    },
    {
      "cell_type": "code",
      "execution_count": 63,
      "metadata": {},
      "outputs": [],
      "source": [
        "aggregate_desktop_df = get_aggregate_df_from_json_file(desktop_views_file)\n",
        "aggregate_mobile_df = get_aggregate_df_from_json_file(mobile_views_file)\n",
        "aggregate_cumulative_df = get_aggregate_df_from_json_file(cumulative_views_file)"
      ]
    },
    {
      "cell_type": "code",
      "execution_count": 64,
      "metadata": {},
      "outputs": [
        {
          "data": {
            "text/html": [
              "<div>\n",
              "<style scoped>\n",
              "    .dataframe tbody tr th:only-of-type {\n",
              "        vertical-align: middle;\n",
              "    }\n",
              "\n",
              "    .dataframe tbody tr th {\n",
              "        vertical-align: top;\n",
              "    }\n",
              "\n",
              "    .dataframe thead th {\n",
              "        text-align: right;\n",
              "    }\n",
              "</style>\n",
              "<table border=\"1\" class=\"dataframe\">\n",
              "  <thead>\n",
              "    <tr style=\"text-align: right;\">\n",
              "      <th></th>\n",
              "      <th>article</th>\n",
              "      <th>max_views</th>\n",
              "      <th>max_month</th>\n",
              "      <th>min_views</th>\n",
              "      <th>min_month</th>\n",
              "      <th>avg_views</th>\n",
              "      <th>count_views</th>\n",
              "    </tr>\n",
              "  </thead>\n",
              "  <tbody>\n",
              "    <tr>\n",
              "      <th>0</th>\n",
              "      <td>Klinefelter syndrome</td>\n",
              "      <td>55026</td>\n",
              "      <td>2016020100</td>\n",
              "      <td>482</td>\n",
              "      <td>2023040100</td>\n",
              "      <td>27762.021277</td>\n",
              "      <td>94</td>\n",
              "    </tr>\n",
              "  </tbody>\n",
              "</table>\n",
              "</div>"
            ],
            "text/plain": [
              "                article  max_views   max_month  min_views   min_month  \\\n",
              "0  Klinefelter syndrome      55026  2016020100        482  2023040100   \n",
              "\n",
              "      avg_views  count_views  \n",
              "0  27762.021277           94  "
            ]
          },
          "execution_count": 64,
          "metadata": {},
          "output_type": "execute_result"
        }
      ],
      "source": [
        "aggregate_desktop_df.head(1)"
      ]
    },
    {
      "cell_type": "markdown",
      "metadata": {},
      "source": [
        "### Analysis Part 1"
      ]
    },
    {
      "cell_type": "code",
      "execution_count": 67,
      "metadata": {},
      "outputs": [],
      "source": [
        "article_max_views_average_desktop = get_article_with_max_views_average(aggregate_desktop_df)\n",
        "article_min_views_average_desktop = get_article_with_min_views_average(aggregate_desktop_df)\n",
        "\n",
        "article_max_views_average_mobile = get_article_with_max_views_average(aggregate_mobile_df)\n",
        "article_min_views_average_mobile = get_article_with_min_views_average(aggregate_mobile_df)"
      ]
    },
    {
      "cell_type": "code",
      "execution_count": 69,
      "metadata": {},
      "outputs": [
        {
          "name": "stdout",
          "output_type": "stream",
          "text": [
            "Klinefelter syndrome MT-TP\n",
            "Klinefelter syndrome MT-TP\n"
          ]
        }
      ],
      "source": [
        "print(article_max_views_average_desktop['article'], article_min_views_average_desktop['article'])\n",
        "print(article_max_views_average_mobile['article'], article_min_views_average_mobile['article'])"
      ]
    },
    {
      "cell_type": "code",
      "execution_count": null,
      "metadata": {},
      "outputs": [],
      "source": []
    }
  ],
  "metadata": {
    "colab": {
      "provenance": []
    },
    "kernelspec": {
      "display_name": "Python 3 (ipykernel)",
      "language": "python",
      "name": "python3"
    },
    "language_info": {
      "codemirror_mode": {
        "name": "ipython",
        "version": 3
      },
      "file_extension": ".py",
      "mimetype": "text/x-python",
      "name": "python",
      "nbconvert_exporter": "python",
      "pygments_lexer": "ipython3",
      "version": "3.12.7"
    }
  },
  "nbformat": 4,
  "nbformat_minor": 0
}
