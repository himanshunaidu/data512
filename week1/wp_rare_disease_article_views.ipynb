{
  "cells": [
    {
      "cell_type": "markdown",
      "metadata": {
        "id": "Oe32iyCb-p91",
        "tags": []
      },
      "source": [
        "# Rare Disease Dataset: Monthly Article Traffic\n",
        "\n",
        "This notebook contains code to construct, analyze, and publish a dataset of monthly article traffic for a select set of pages from English Wikipedia from July 1, 2015 through September 30, 2024."
      ]
    },
    {
      "cell_type": "markdown",
      "metadata": {},
      "source": [
        "## Access Page View Data\n",
        "\n",
        "The following sub-section contains code to access page view data using the [Wikimedia REST API](https://www.mediawiki.org/wiki/Wikimedia_REST_API). The API documentation, [pageviews/per-article](https://wikimedia.org/api/rest_v1/#/Pageviews%20data), covers additional details that may be helpful when trying to use or understand this example.\n",
        "\n",
        "### License\n",
        "This code example was developed by Dr. David W. McDonald for use in DATA 512, a course in the UW MS Data Science degree program. This code is provided under the [Creative Commons](https://creativecommons.org) [CC-BY license](https://creativecommons.org/licenses/by/4.0/). Revision 1.3 - August 16, 2024"
      ]
    },
    {
      "cell_type": "code",
      "execution_count": 1,
      "metadata": {
        "id": "ZVDInLVb-p91",
        "tags": []
      },
      "outputs": [],
      "source": [
        "#\n",
        "# These are standard python modules\n",
        "import json, time, urllib.parse\n",
        "#\n",
        "# The 'requests' module is not a standard Python module. You will need to install this with pip/pip3 if you do not already have it\n",
        "import requests"
      ]
    },
    {
      "cell_type": "markdown",
      "metadata": {
        "id": "ayyGs7U5-p91"
      },
      "source": [
        "The example relies on some constants that help make the code a bit more readable."
      ]
    },
    {
      "cell_type": "code",
      "execution_count": 2,
      "metadata": {
        "id": "iN9EWJ6R-p91",
        "tags": []
      },
      "outputs": [],
      "source": [
        "#########\n",
        "#\n",
        "#    CONSTANTS\n",
        "#\n",
        "\n",
        "# The REST API 'pageviews' URL - this is the common URL/endpoint for all 'pageviews' API requests\n",
        "API_REQUEST_PAGEVIEWS_ENDPOINT = 'https://wikimedia.org/api/rest_v1/metrics/pageviews/'\n",
        "\n",
        "# This is a parameterized string that specifies what kind of pageviews request we are going to make\n",
        "# In this case it will be a 'per-article' based request. The string is a format string so that we can\n",
        "# replace each parameter with an appropriate value before making the request\n",
        "API_REQUEST_PER_ARTICLE_PARAMS = 'per-article/{project}/{access}/{agent}/{article}/{granularity}/{start}/{end}'\n",
        "\n",
        "# The Pageviews API asks that we not exceed 100 requests per second, we add a small delay to each request\n",
        "API_LATENCY_ASSUMED = 0.002       # Assuming roughly 2ms latency on the API and network\n",
        "API_THROTTLE_WAIT = (1.0/100.0)-API_LATENCY_ASSUMED\n",
        "\n",
        "# When making a request to the Wikimedia API they ask that you include your email address which will allow them\n",
        "# to contact you if something happens - such as - your code exceeding rate limits - or some other error\n",
        "REQUEST_HEADERS = {\n",
        "    'User-Agent': 'hnaidu36@uw.edu, University of Washington, MSDS DATA 512 - AUTUMN 2023',\n",
        "}\n",
        "\n",
        "# This is just a list of English Wikipedia article titles that we can use for example requests\n",
        "ARTICLE_TITLES = [ 'Bison', 'Northern flicker', 'Red squirrel', 'Chinook salmon', 'Horseshoe bat' ]\n",
        "\n",
        "# This template is used to map parameter values into the API_REQUST_PER_ARTICLE_PARAMS portion of an API request. The dictionary has a\n",
        "# field/key for each of the required parameters. In the example, below, we only vary the article name, so the majority of the fields\n",
        "# can stay constant for each request. Of course, these values *could* be changed if necessary.\n",
        "ARTICLE_PAGEVIEWS_PARAMS_TEMPLATE = {\n",
        "    \"project\":     \"en.wikipedia.org\",\n",
        "    \"access\":      \"desktop\",      # this should be changed for the different access types\n",
        "    \"agent\":       \"user\",\n",
        "    \"article\":     \"\",             # this value will be set/changed before each request\n",
        "    \"granularity\": \"monthly\",\n",
        "    \"start\":       \"2015010100\",   # start and end dates need to be set\n",
        "    \"end\":         \"2023040100\"    # this is likely the wrong end date\n",
        "}\n"
      ]
    },
    {
      "cell_type": "markdown",
      "metadata": {
        "id": "gT4C79X1-p91"
      },
      "source": [
        "The API request will be made using one procedure. The idea is to make this reusable. The procedure is parameterized, but relies on the constants above for the important parameters. The underlying assumption is that this will be used to request data for a set of article pages. Therefore the parameter most likely to change is the article_title."
      ]
    },
    {
      "cell_type": "code",
      "execution_count": 3,
      "metadata": {
        "id": "0dO45E04-p91",
        "tags": []
      },
      "outputs": [],
      "source": [
        "#########\n",
        "#\n",
        "#    PROCEDURES/FUNCTIONS\n",
        "#\n",
        "\n",
        "def request_pageviews_per_article(article_title = None,\n",
        "                                  endpoint_url = API_REQUEST_PAGEVIEWS_ENDPOINT,\n",
        "                                  endpoint_params = API_REQUEST_PER_ARTICLE_PARAMS,\n",
        "                                  request_template = ARTICLE_PAGEVIEWS_PARAMS_TEMPLATE,\n",
        "                                  headers = REQUEST_HEADERS):\n",
        "\n",
        "    # article title can be as a parameter to the call or in the request_template\n",
        "    if article_title:\n",
        "        request_template['article'] = article_title\n",
        "\n",
        "    if not request_template['article']:\n",
        "        raise Exception(\"Must supply an article title to make a pageviews request.\")\n",
        "\n",
        "    # Titles are supposed to have spaces replaced with \"_\" and be URL encoded\n",
        "    article_title_encoded = urllib.parse.quote(request_template['article'].replace(' ','_'))\n",
        "    request_template['article'] = article_title_encoded\n",
        "\n",
        "    # now, create a request URL by combining the endpoint_url with the parameters for the request\n",
        "    request_url = endpoint_url+endpoint_params.format(**request_template)\n",
        "\n",
        "    # make the request\n",
        "    try:\n",
        "        # we'll wait first, to make sure we don't exceed the limit in the situation where an exception\n",
        "        # occurs during the request processing - throttling is always a good practice with a free\n",
        "        # data source like Wikipedia - or other community sources\n",
        "        if API_THROTTLE_WAIT > 0.0:\n",
        "            time.sleep(API_THROTTLE_WAIT)\n",
        "        response = requests.get(request_url, headers=headers)\n",
        "        json_response = response.json()\n",
        "    except Exception as e:\n",
        "        print(e)\n",
        "        json_response = None\n",
        "    return json_response\n"
      ]
    },
    {
      "cell_type": "markdown",
      "metadata": {},
      "source": [
        "## Rare Disease Data Acquisition"
      ]
    },
    {
      "cell_type": "markdown",
      "metadata": {},
      "source": [
        "IMPORTS"
      ]
    },
    {
      "cell_type": "code",
      "execution_count": 13,
      "metadata": {
        "id": "UIVViXR_-p91"
      },
      "outputs": [],
      "source": [
        "import os\n",
        "import numpy as np\n",
        "import pandas as pd"
      ]
    },
    {
      "cell_type": "markdown",
      "metadata": {},
      "source": [
        "CONSTANTS"
      ]
    },
    {
      "cell_type": "code",
      "execution_count": 12,
      "metadata": {},
      "outputs": [],
      "source": [
        "DEV_ENVIRONMENT = True\n",
        "RARE_DISEASE_CSV_PATH = \"rare-disease_cleaned.AUG.2024.csv\""
      ]
    },
    {
      "cell_type": "code",
      "execution_count": 15,
      "metadata": {},
      "outputs": [],
      "source": [
        "# Change the arguments of params templates\n",
        "ARTICLE_PAGEVIEWS_PARAMS_TEMPLATE['end'] = \"2024103100\"\n",
        "\n",
        "# Create access-specific params templates\n",
        "ARTICLE_PAGEVIEWS_PARAMS_TEMPLATE_DESKTOP = ARTICLE_PAGEVIEWS_PARAMS_TEMPLATE.copy()\n",
        "ARTICLE_PAGEVIEWS_PARAMS_TEMPLATE_DESKTOP['access'] = \"desktop\"\n",
        "\n",
        "ARTICLE_PAGEVIEWS_PARAMS_TEMPLATE_MOBILE = ARTICLE_PAGEVIEWS_PARAMS_TEMPLATE.copy()\n",
        "ARTICLE_PAGEVIEWS_PARAMS_TEMPLATE_MOBILE['access'] = \"mobile-web\"\n",
        "\n",
        "ARTICLE_PAGEVIEWS_PARAMS_TEMPLATE_MOBILE_APP = ARTICLE_PAGEVIEWS_PARAMS_TEMPLATE.copy()\n",
        "ARTICLE_PAGEVIEWS_PARAMS_TEMPLATE_MOBILE_APP['access'] = \"mobile-app\""
      ]
    },
    {
      "cell_type": "markdown",
      "metadata": {},
      "source": [
        "FUNCTIONS"
      ]
    },
    {
      "cell_type": "code",
      "execution_count": 16,
      "metadata": {},
      "outputs": [],
      "source": [
        "def write_json_to_file(data, filename, mode = \"a+\"):\n",
        "    with open(filename, mode) as json_file:\n",
        "        json.dump(data, json_file, ensure_ascii=False)"
      ]
    },
    {
      "cell_type": "code",
      "execution_count": null,
      "metadata": {},
      "outputs": [],
      "source": [
        "def get_page_views_json_for_article(article_title = None,\n",
        "                                  endpoint_url = API_REQUEST_PAGEVIEWS_ENDPOINT,\n",
        "                                  request_template = ARTICLE_PAGEVIEWS_PARAMS_TEMPLATE,\n",
        "                                  endpoint_params = API_REQUEST_PER_ARTICLE_PARAMS,\n",
        "                                  headers = REQUEST_HEADERS) -> json:\n",
        "    '''\n",
        "    Get page views for a given article title\n",
        "\n",
        "    Parameters:\n",
        "    ----------\n",
        "    article_title: str\n",
        "        The title of the article to get page views for\n",
        "    \n",
        "    endpoint_url: str\n",
        "        The URL of the endpoint to make the request to\n",
        "\n",
        "    request_template: dict\n",
        "        The template for the request parameters\n",
        "    \n",
        "    endpoint_params: str\n",
        "        The parameters for the request.\n",
        "        These will be used to format the request_template\n",
        "\n",
        "    headers: dict\n",
        "        The headers to be used in the request\n",
        "    \n",
        "    Returns:\n",
        "    -------\n",
        "    response: json\n",
        "        The response from the API\n",
        "        \n",
        "    '''\n",
        "    views = request_pageviews_per_article(article_title, endpoint_url, endpoint_params, request_template, headers)\n",
        "    views = views['items']\n",
        "    return views"
      ]
    },
    {
      "cell_type": "markdown",
      "metadata": {},
      "source": [
        "### Load CSV and Query API"
      ]
    },
    {
      "cell_type": "code",
      "execution_count": 17,
      "metadata": {},
      "outputs": [],
      "source": [
        "rare_disease_df = pd.read_csv(os.path.join(os.getcwd(), RARE_DISEASE_CSV_PATH))"
      ]
    },
    {
      "cell_type": "code",
      "execution_count": 18,
      "metadata": {},
      "outputs": [
        {
          "data": {
            "text/plain": [
              "disease    1773\n",
              "pageid     1773\n",
              "url        1773\n",
              "dtype: int64"
            ]
          },
          "execution_count": 18,
          "metadata": {},
          "output_type": "execute_result"
        }
      ],
      "source": [
        "rare_disease_df.count()"
      ]
    },
    {
      "cell_type": "code",
      "execution_count": 19,
      "metadata": {},
      "outputs": [
        {
          "data": {
            "text/html": [
              "<div>\n",
              "<style scoped>\n",
              "    .dataframe tbody tr th:only-of-type {\n",
              "        vertical-align: middle;\n",
              "    }\n",
              "\n",
              "    .dataframe tbody tr th {\n",
              "        vertical-align: top;\n",
              "    }\n",
              "\n",
              "    .dataframe thead th {\n",
              "        text-align: right;\n",
              "    }\n",
              "</style>\n",
              "<table border=\"1\" class=\"dataframe\">\n",
              "  <thead>\n",
              "    <tr style=\"text-align: right;\">\n",
              "      <th></th>\n",
              "      <th>disease</th>\n",
              "      <th>pageid</th>\n",
              "      <th>url</th>\n",
              "    </tr>\n",
              "  </thead>\n",
              "  <tbody>\n",
              "    <tr>\n",
              "      <th>0</th>\n",
              "      <td>Klinefelter syndrome</td>\n",
              "      <td>19833554</td>\n",
              "      <td>https://en.wikipedia.org/wiki/Klinefelter_synd...</td>\n",
              "    </tr>\n",
              "  </tbody>\n",
              "</table>\n",
              "</div>"
            ],
            "text/plain": [
              "                disease    pageid  \\\n",
              "0  Klinefelter syndrome  19833554   \n",
              "\n",
              "                                                 url  \n",
              "0  https://en.wikipedia.org/wiki/Klinefelter_synd...  "
            ]
          },
          "execution_count": 19,
          "metadata": {},
          "output_type": "execute_result"
        }
      ],
      "source": [
        "rare_disease_df.head(1)"
      ]
    },
    {
      "cell_type": "code",
      "execution_count": 21,
      "metadata": {},
      "outputs": [],
      "source": [
        "if DEV_ENVIRONMENT:\n",
        "    rare_disease_df = rare_disease_df.head(5)"
      ]
    },
    {
      "cell_type": "code",
      "execution_count": null,
      "metadata": {},
      "outputs": [],
      "source": []
    }
  ],
  "metadata": {
    "colab": {
      "provenance": []
    },
    "kernelspec": {
      "display_name": "Python 3 (ipykernel)",
      "language": "python",
      "name": "python3"
    },
    "language_info": {
      "codemirror_mode": {
        "name": "ipython",
        "version": 3
      },
      "file_extension": ".py",
      "mimetype": "text/x-python",
      "name": "python",
      "nbconvert_exporter": "python",
      "pygments_lexer": "ipython3",
      "version": "3.12.7"
    }
  },
  "nbformat": 4,
  "nbformat_minor": 0
}
