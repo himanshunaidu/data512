{
 "cells": [
  {
   "cell_type": "markdown",
   "metadata": {},
   "source": [
    "# Wikipedia Politician Articles: Bias\n",
    "\n",
    "This notebook explores bias in data using Wikipedia articles about political figures from different countries. The analysis aims to examine the coverage of politicians on Wikipedia and the quality of articles about politicians across nations. \n",
    "\n",
    "The notebook utilizes data from two sources: a dataset of Wikipedia articles about politicians and a dataset of country populations. Additionally, the machine learning service ORES is used to estimate the quality of each article."
   ]
  },
  {
   "cell_type": "markdown",
   "metadata": {},
   "source": []
  }
 ],
 "metadata": {
  "language_info": {
   "name": "python"
  }
 },
 "nbformat": 4,
 "nbformat_minor": 2
}
